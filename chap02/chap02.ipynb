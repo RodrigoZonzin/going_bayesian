{
 "cells": [
  {
   "cell_type": "code",
   "execution_count": 1,
   "metadata": {},
   "outputs": [],
   "source": [
    "import numpy as np\n",
    "from thinkbayes2 import Pmf"
   ]
  },
  {
   "cell_type": "markdown",
   "metadata": {},
   "source": [
    "### Hello World, Bayes\n",
    "$P(A|B ) = \\frac{P(A)P(B|A)}{P(B)}$"
   ]
  },
  {
   "cell_type": "code",
   "execution_count": 9,
   "metadata": {},
   "outputs": [],
   "source": [
    "pmf = Pmf()"
   ]
  },
  {
   "cell_type": "code",
   "execution_count": 10,
   "metadata": {},
   "outputs": [],
   "source": [
    "frase = \"\"\"I put “probability” in quotes because in this example, the probabilities are not normal‐\n",
    "ized; that is, they do not add up to 1. So they are not true probabilities.\"\"\"\n",
    "\n",
    "for palavra in frase.split():\n",
    "    pmf.Incr(palavra, 1)"
   ]
  },
  {
   "cell_type": "code",
   "execution_count": 11,
   "metadata": {},
   "outputs": [
    {
     "data": {
      "text/plain": [
       "30"
      ]
     },
     "execution_count": 11,
     "metadata": {},
     "output_type": "execute_result"
    }
   ],
   "source": [
    "pmf.Normalize()"
   ]
  },
  {
   "cell_type": "code",
   "execution_count": 18,
   "metadata": {},
   "outputs": [
    {
     "name": "stdout",
     "output_type": "stream",
     "text": [
      "1. 0.03333333333333333\n",
      "I 0.03333333333333333\n",
      "So 0.03333333333333333\n",
      "add 0.03333333333333333\n",
      "are 0.06666666666666667\n",
      "because 0.03333333333333333\n",
      "do 0.03333333333333333\n",
      "example, 0.03333333333333333\n",
      "in 0.06666666666666667\n",
      "is, 0.03333333333333333\n",
      "ized; 0.03333333333333333\n",
      "normal‐ 0.03333333333333333\n",
      "not 0.1\n",
      "probabilities 0.03333333333333333\n",
      "probabilities. 0.03333333333333333\n",
      "put 0.03333333333333333\n",
      "quotes 0.03333333333333333\n",
      "that 0.03333333333333333\n",
      "the 0.03333333333333333\n",
      "they 0.06666666666666667\n",
      "this 0.03333333333333333\n",
      "to 0.03333333333333333\n",
      "true 0.03333333333333333\n",
      "up 0.03333333333333333\n",
      "“probability” 0.03333333333333333\n"
     ]
    }
   ],
   "source": [
    "pmf.Print()"
   ]
  },
  {
   "cell_type": "markdown",
   "metadata": {},
   "source": [
    "### Ex01"
   ]
  },
  {
   "cell_type": "code",
   "execution_count": null,
   "metadata": {},
   "outputs": [],
   "source": []
  }
 ],
 "metadata": {
  "kernelspec": {
   "display_name": "Python 3",
   "language": "python",
   "name": "python3"
  },
  "language_info": {
   "codemirror_mode": {
    "name": "ipython",
    "version": 3
   },
   "file_extension": ".py",
   "mimetype": "text/x-python",
   "name": "python",
   "nbconvert_exporter": "python",
   "pygments_lexer": "ipython3",
   "version": "3.10.12"
  }
 },
 "nbformat": 4,
 "nbformat_minor": 2
}
